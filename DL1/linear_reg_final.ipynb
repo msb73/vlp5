{
  "nbformat": 4,
  "nbformat_minor": 0,
  "metadata": {
    "colab": {
      "provenance": []
    },
    "kernelspec": {
      "name": "python3",
      "display_name": "Python 3"
    },
    "language_info": {
      "name": "python"
    }
  },
  "cells": [
    {
      "cell_type": "code",
      "execution_count": 14,
      "metadata": {
        "id": "ckdi97Mrjlcg"
      },
      "outputs": [],
      "source": [
        "import pandas as pd\n",
        "import matplotlib.pyplot as plt\n",
        "from tensorflow.keras.models import Sequential\n",
        "from tensorflow.keras.layers import Dense\n",
        "from sklearn.preprocessing import StandardScaler\n",
        "from sklearn.model_selection import train_test_split\n",
        "from sklearn.metrics import mean_absolute_error, mean_squared_error, r2_score"
      ]
    },
    {
      "cell_type": "code",
      "source": [
        "df = pd.read_csv('BostonHousing.csv')\n",
        "df.head()"
      ],
      "metadata": {
        "colab": {
          "base_uri": "https://localhost:8080/",
          "height": 206
        },
        "id": "A7vynmXgkN7Y",
        "outputId": "6228f730-a13c-473d-958a-b440ea401b6c"
      },
      "execution_count": 15,
      "outputs": [
        {
          "output_type": "execute_result",
          "data": {
            "text/plain": [
              "      crim    zn  indus  chas    nox     rm   age     dis  rad  tax  ptratio  \\\n",
              "0  0.00632  18.0   2.31     0  0.538  6.575  65.2  4.0900    1  296     15.3   \n",
              "1  0.02731   0.0   7.07     0  0.469  6.421  78.9  4.9671    2  242     17.8   \n",
              "2  0.02729   0.0   7.07     0  0.469  7.185  61.1  4.9671    2  242     17.8   \n",
              "3  0.03237   0.0   2.18     0  0.458  6.998  45.8  6.0622    3  222     18.7   \n",
              "4  0.06905   0.0   2.18     0  0.458  7.147  54.2  6.0622    3  222     18.7   \n",
              "\n",
              "        b  lstat  medv  \n",
              "0  396.90   4.98  24.0  \n",
              "1  396.90   9.14  21.6  \n",
              "2  392.83   4.03  34.7  \n",
              "3  394.63   2.94  33.4  \n",
              "4  396.90   5.33  36.2  "
            ],
            "text/html": [
              "\n",
              "  <div id=\"df-07ab7f00-3aaf-45e7-90c8-7bec2f9252d9\">\n",
              "    <div class=\"colab-df-container\">\n",
              "      <div>\n",
              "<style scoped>\n",
              "    .dataframe tbody tr th:only-of-type {\n",
              "        vertical-align: middle;\n",
              "    }\n",
              "\n",
              "    .dataframe tbody tr th {\n",
              "        vertical-align: top;\n",
              "    }\n",
              "\n",
              "    .dataframe thead th {\n",
              "        text-align: right;\n",
              "    }\n",
              "</style>\n",
              "<table border=\"1\" class=\"dataframe\">\n",
              "  <thead>\n",
              "    <tr style=\"text-align: right;\">\n",
              "      <th></th>\n",
              "      <th>crim</th>\n",
              "      <th>zn</th>\n",
              "      <th>indus</th>\n",
              "      <th>chas</th>\n",
              "      <th>nox</th>\n",
              "      <th>rm</th>\n",
              "      <th>age</th>\n",
              "      <th>dis</th>\n",
              "      <th>rad</th>\n",
              "      <th>tax</th>\n",
              "      <th>ptratio</th>\n",
              "      <th>b</th>\n",
              "      <th>lstat</th>\n",
              "      <th>medv</th>\n",
              "    </tr>\n",
              "  </thead>\n",
              "  <tbody>\n",
              "    <tr>\n",
              "      <th>0</th>\n",
              "      <td>0.00632</td>\n",
              "      <td>18.0</td>\n",
              "      <td>2.31</td>\n",
              "      <td>0</td>\n",
              "      <td>0.538</td>\n",
              "      <td>6.575</td>\n",
              "      <td>65.2</td>\n",
              "      <td>4.0900</td>\n",
              "      <td>1</td>\n",
              "      <td>296</td>\n",
              "      <td>15.3</td>\n",
              "      <td>396.90</td>\n",
              "      <td>4.98</td>\n",
              "      <td>24.0</td>\n",
              "    </tr>\n",
              "    <tr>\n",
              "      <th>1</th>\n",
              "      <td>0.02731</td>\n",
              "      <td>0.0</td>\n",
              "      <td>7.07</td>\n",
              "      <td>0</td>\n",
              "      <td>0.469</td>\n",
              "      <td>6.421</td>\n",
              "      <td>78.9</td>\n",
              "      <td>4.9671</td>\n",
              "      <td>2</td>\n",
              "      <td>242</td>\n",
              "      <td>17.8</td>\n",
              "      <td>396.90</td>\n",
              "      <td>9.14</td>\n",
              "      <td>21.6</td>\n",
              "    </tr>\n",
              "    <tr>\n",
              "      <th>2</th>\n",
              "      <td>0.02729</td>\n",
              "      <td>0.0</td>\n",
              "      <td>7.07</td>\n",
              "      <td>0</td>\n",
              "      <td>0.469</td>\n",
              "      <td>7.185</td>\n",
              "      <td>61.1</td>\n",
              "      <td>4.9671</td>\n",
              "      <td>2</td>\n",
              "      <td>242</td>\n",
              "      <td>17.8</td>\n",
              "      <td>392.83</td>\n",
              "      <td>4.03</td>\n",
              "      <td>34.7</td>\n",
              "    </tr>\n",
              "    <tr>\n",
              "      <th>3</th>\n",
              "      <td>0.03237</td>\n",
              "      <td>0.0</td>\n",
              "      <td>2.18</td>\n",
              "      <td>0</td>\n",
              "      <td>0.458</td>\n",
              "      <td>6.998</td>\n",
              "      <td>45.8</td>\n",
              "      <td>6.0622</td>\n",
              "      <td>3</td>\n",
              "      <td>222</td>\n",
              "      <td>18.7</td>\n",
              "      <td>394.63</td>\n",
              "      <td>2.94</td>\n",
              "      <td>33.4</td>\n",
              "    </tr>\n",
              "    <tr>\n",
              "      <th>4</th>\n",
              "      <td>0.06905</td>\n",
              "      <td>0.0</td>\n",
              "      <td>2.18</td>\n",
              "      <td>0</td>\n",
              "      <td>0.458</td>\n",
              "      <td>7.147</td>\n",
              "      <td>54.2</td>\n",
              "      <td>6.0622</td>\n",
              "      <td>3</td>\n",
              "      <td>222</td>\n",
              "      <td>18.7</td>\n",
              "      <td>396.90</td>\n",
              "      <td>5.33</td>\n",
              "      <td>36.2</td>\n",
              "    </tr>\n",
              "  </tbody>\n",
              "</table>\n",
              "</div>\n",
              "      <button class=\"colab-df-convert\" onclick=\"convertToInteractive('df-07ab7f00-3aaf-45e7-90c8-7bec2f9252d9')\"\n",
              "              title=\"Convert this dataframe to an interactive table.\"\n",
              "              style=\"display:none;\">\n",
              "        \n",
              "  <svg xmlns=\"http://www.w3.org/2000/svg\" height=\"24px\"viewBox=\"0 0 24 24\"\n",
              "       width=\"24px\">\n",
              "    <path d=\"M0 0h24v24H0V0z\" fill=\"none\"/>\n",
              "    <path d=\"M18.56 5.44l.94 2.06.94-2.06 2.06-.94-2.06-.94-.94-2.06-.94 2.06-2.06.94zm-11 1L8.5 8.5l.94-2.06 2.06-.94-2.06-.94L8.5 2.5l-.94 2.06-2.06.94zm10 10l.94 2.06.94-2.06 2.06-.94-2.06-.94-.94-2.06-.94 2.06-2.06.94z\"/><path d=\"M17.41 7.96l-1.37-1.37c-.4-.4-.92-.59-1.43-.59-.52 0-1.04.2-1.43.59L10.3 9.45l-7.72 7.72c-.78.78-.78 2.05 0 2.83L4 21.41c.39.39.9.59 1.41.59.51 0 1.02-.2 1.41-.59l7.78-7.78 2.81-2.81c.8-.78.8-2.07 0-2.86zM5.41 20L4 18.59l7.72-7.72 1.47 1.35L5.41 20z\"/>\n",
              "  </svg>\n",
              "      </button>\n",
              "      \n",
              "  <style>\n",
              "    .colab-df-container {\n",
              "      display:flex;\n",
              "      flex-wrap:wrap;\n",
              "      gap: 12px;\n",
              "    }\n",
              "\n",
              "    .colab-df-convert {\n",
              "      background-color: #E8F0FE;\n",
              "      border: none;\n",
              "      border-radius: 50%;\n",
              "      cursor: pointer;\n",
              "      display: none;\n",
              "      fill: #1967D2;\n",
              "      height: 32px;\n",
              "      padding: 0 0 0 0;\n",
              "      width: 32px;\n",
              "    }\n",
              "\n",
              "    .colab-df-convert:hover {\n",
              "      background-color: #E2EBFA;\n",
              "      box-shadow: 0px 1px 2px rgba(60, 64, 67, 0.3), 0px 1px 3px 1px rgba(60, 64, 67, 0.15);\n",
              "      fill: #174EA6;\n",
              "    }\n",
              "\n",
              "    [theme=dark] .colab-df-convert {\n",
              "      background-color: #3B4455;\n",
              "      fill: #D2E3FC;\n",
              "    }\n",
              "\n",
              "    [theme=dark] .colab-df-convert:hover {\n",
              "      background-color: #434B5C;\n",
              "      box-shadow: 0px 1px 3px 1px rgba(0, 0, 0, 0.15);\n",
              "      filter: drop-shadow(0px 1px 2px rgba(0, 0, 0, 0.3));\n",
              "      fill: #FFFFFF;\n",
              "    }\n",
              "  </style>\n",
              "\n",
              "      <script>\n",
              "        const buttonEl =\n",
              "          document.querySelector('#df-07ab7f00-3aaf-45e7-90c8-7bec2f9252d9 button.colab-df-convert');\n",
              "        buttonEl.style.display =\n",
              "          google.colab.kernel.accessAllowed ? 'block' : 'none';\n",
              "\n",
              "        async function convertToInteractive(key) {\n",
              "          const element = document.querySelector('#df-07ab7f00-3aaf-45e7-90c8-7bec2f9252d9');\n",
              "          const dataTable =\n",
              "            await google.colab.kernel.invokeFunction('convertToInteractive',\n",
              "                                                     [key], {});\n",
              "          if (!dataTable) return;\n",
              "\n",
              "          const docLinkHtml = 'Like what you see? Visit the ' +\n",
              "            '<a target=\"_blank\" href=https://colab.research.google.com/notebooks/data_table.ipynb>data table notebook</a>'\n",
              "            + ' to learn more about interactive tables.';\n",
              "          element.innerHTML = '';\n",
              "          dataTable['output_type'] = 'display_data';\n",
              "          await google.colab.output.renderOutput(dataTable, element);\n",
              "          const docLink = document.createElement('div');\n",
              "          docLink.innerHTML = docLinkHtml;\n",
              "          element.appendChild(docLink);\n",
              "        }\n",
              "      </script>\n",
              "    </div>\n",
              "  </div>\n",
              "  "
            ]
          },
          "metadata": {},
          "execution_count": 15
        }
      ]
    },
    {
      "cell_type": "code",
      "source": [
        "df.isnull().sum()"
      ],
      "metadata": {
        "colab": {
          "base_uri": "https://localhost:8080/"
        },
        "id": "oUOh9Uh3kaBw",
        "outputId": "19511c08-fdb0-47be-ae52-ff633978c042"
      },
      "execution_count": 16,
      "outputs": [
        {
          "output_type": "execute_result",
          "data": {
            "text/plain": [
              "crim       0\n",
              "zn         0\n",
              "indus      0\n",
              "chas       0\n",
              "nox        0\n",
              "rm         0\n",
              "age        0\n",
              "dis        0\n",
              "rad        0\n",
              "tax        0\n",
              "ptratio    0\n",
              "b          0\n",
              "lstat      0\n",
              "medv       0\n",
              "dtype: int64"
            ]
          },
          "metadata": {},
          "execution_count": 16
        }
      ]
    },
    {
      "cell_type": "code",
      "source": [
        "x = df.loc[:,df.columns != 'medv']\n",
        "y = df.loc[:,df.columns == 'medv']"
      ],
      "metadata": {
        "id": "MUgeffv8kZ91"
      },
      "execution_count": 17,
      "outputs": []
    },
    {
      "cell_type": "code",
      "source": [
        "\n",
        "x_train, x_test, y_train, y_test = train_test_split(x,y,test_size=0.3, random_state=42)"
      ],
      "metadata": {
        "id": "zjA4ezpFlLDp"
      },
      "execution_count": 18,
      "outputs": []
    },
    {
      "cell_type": "code",
      "source": [
        "\n",
        "scaler = StandardScaler()\n",
        "x_train = scaler.fit_transform(x_train)\n",
        "x_test = scaler.fit_transform(x_test)"
      ],
      "metadata": {
        "id": "Bdm1QvXgluQA"
      },
      "execution_count": 19,
      "outputs": []
    },
    {
      "cell_type": "code",
      "source": [
        "\n",
        "\n",
        "model = Sequential()\n",
        "model.add(Dense(128, input_shape=(13,), activation='relu'))\n",
        "model.add(Dense(64, activation='relu'))\n",
        "model.add(Dense(1, activation='linear'))\n",
        "\n",
        "model.compile(optimizer='adam', loss='mse' ,metrics=['mae'])\n",
        "model.summary()"
      ],
      "metadata": {
        "colab": {
          "base_uri": "https://localhost:8080/"
        },
        "id": "tXo8oSxCluSh",
        "outputId": "c054ff16-c4c7-4cd7-8ea1-398720dca2f4"
      },
      "execution_count": 20,
      "outputs": [
        {
          "output_type": "stream",
          "name": "stdout",
          "text": [
            "Model: \"sequential_1\"\n",
            "_________________________________________________________________\n",
            " Layer (type)                Output Shape              Param #   \n",
            "=================================================================\n",
            " dense_3 (Dense)             (None, 128)               1792      \n",
            "                                                                 \n",
            " dense_4 (Dense)             (None, 64)                8256      \n",
            "                                                                 \n",
            " dense_5 (Dense)             (None, 1)                 65        \n",
            "                                                                 \n",
            "=================================================================\n",
            "Total params: 10,113\n",
            "Trainable params: 10,113\n",
            "Non-trainable params: 0\n",
            "_________________________________________________________________\n"
          ]
        }
      ]
    },
    {
      "cell_type": "code",
      "source": [
        "history = model.fit(x_train,y_train,epochs=100, validation_split=0.05, verbose = 1)"
      ],
      "metadata": {
        "colab": {
          "base_uri": "https://localhost:8080/"
        },
        "id": "5_jmvM2oluVL",
        "outputId": "cb467cdc-4810-4a2b-db1b-b0e5d43f80d1"
      },
      "execution_count": 21,
      "outputs": [
        {
          "output_type": "stream",
          "name": "stdout",
          "text": [
            "Epoch 1/100\n",
            "12/12 [==============================] - 1s 3ms/step - loss: 592.0186 - mae: 22.4504\n",
            "Epoch 2/100\n",
            "12/12 [==============================] - 0s 3ms/step - loss: 516.5604 - mae: 20.7561\n",
            "Epoch 3/100\n",
            "12/12 [==============================] - 0s 3ms/step - loss: 423.0358 - mae: 18.4103\n",
            "Epoch 4/100\n",
            "12/12 [==============================] - 0s 3ms/step - loss: 301.5436 - mae: 15.0704\n",
            "Epoch 5/100\n",
            "12/12 [==============================] - 0s 3ms/step - loss: 173.5810 - mae: 10.7003\n",
            "Epoch 6/100\n",
            "12/12 [==============================] - 0s 3ms/step - loss: 96.1556 - mae: 7.5603\n",
            "Epoch 7/100\n",
            "12/12 [==============================] - 0s 2ms/step - loss: 65.8819 - mae: 6.2452\n",
            "Epoch 8/100\n",
            "12/12 [==============================] - 0s 3ms/step - loss: 45.0787 - mae: 5.1486\n",
            "Epoch 9/100\n",
            "12/12 [==============================] - 0s 3ms/step - loss: 34.6846 - mae: 4.4213\n",
            "Epoch 10/100\n",
            "12/12 [==============================] - 0s 3ms/step - loss: 28.6723 - mae: 4.0115\n",
            "Epoch 11/100\n",
            "12/12 [==============================] - 0s 3ms/step - loss: 25.9807 - mae: 3.7522\n",
            "Epoch 12/100\n",
            "12/12 [==============================] - 0s 2ms/step - loss: 24.2301 - mae: 3.6070\n",
            "Epoch 13/100\n",
            "12/12 [==============================] - 0s 2ms/step - loss: 22.7683 - mae: 3.5122\n",
            "Epoch 14/100\n",
            "12/12 [==============================] - 0s 3ms/step - loss: 21.5290 - mae: 3.4347\n",
            "Epoch 15/100\n",
            "12/12 [==============================] - 0s 2ms/step - loss: 20.6964 - mae: 3.3495\n",
            "Epoch 16/100\n",
            "12/12 [==============================] - 0s 2ms/step - loss: 19.9118 - mae: 3.2905\n",
            "Epoch 17/100\n",
            "12/12 [==============================] - 0s 2ms/step - loss: 19.1631 - mae: 3.2268\n",
            "Epoch 18/100\n",
            "12/12 [==============================] - 0s 2ms/step - loss: 18.5252 - mae: 3.1665\n",
            "Epoch 19/100\n",
            "12/12 [==============================] - 0s 2ms/step - loss: 17.9413 - mae: 3.1150\n",
            "Epoch 20/100\n",
            "12/12 [==============================] - 0s 2ms/step - loss: 18.0159 - mae: 3.1728\n",
            "Epoch 21/100\n",
            "12/12 [==============================] - 0s 3ms/step - loss: 17.8670 - mae: 3.1348\n",
            "Epoch 22/100\n",
            "12/12 [==============================] - 0s 3ms/step - loss: 17.3392 - mae: 3.0830\n",
            "Epoch 23/100\n",
            "12/12 [==============================] - 0s 3ms/step - loss: 16.0920 - mae: 2.9550\n",
            "Epoch 24/100\n",
            "12/12 [==============================] - 0s 2ms/step - loss: 15.7129 - mae: 2.9080\n",
            "Epoch 25/100\n",
            "12/12 [==============================] - 0s 3ms/step - loss: 15.4600 - mae: 2.8690\n",
            "Epoch 26/100\n",
            "12/12 [==============================] - 0s 3ms/step - loss: 15.0146 - mae: 2.8325\n",
            "Epoch 27/100\n",
            "12/12 [==============================] - 0s 2ms/step - loss: 14.7662 - mae: 2.8318\n",
            "Epoch 28/100\n",
            "12/12 [==============================] - 0s 3ms/step - loss: 14.6559 - mae: 2.8044\n",
            "Epoch 29/100\n",
            "12/12 [==============================] - 0s 2ms/step - loss: 14.2725 - mae: 2.7564\n",
            "Epoch 30/100\n",
            "12/12 [==============================] - 0s 3ms/step - loss: 13.9630 - mae: 2.7276\n",
            "Epoch 31/100\n",
            "12/12 [==============================] - 0s 2ms/step - loss: 13.7772 - mae: 2.7139\n",
            "Epoch 32/100\n",
            "12/12 [==============================] - 0s 2ms/step - loss: 13.5093 - mae: 2.6972\n",
            "Epoch 33/100\n",
            "12/12 [==============================] - 0s 3ms/step - loss: 13.5148 - mae: 2.6842\n",
            "Epoch 34/100\n",
            "12/12 [==============================] - 0s 2ms/step - loss: 13.1508 - mae: 2.6310\n",
            "Epoch 35/100\n",
            "12/12 [==============================] - 0s 3ms/step - loss: 13.1355 - mae: 2.6482\n",
            "Epoch 36/100\n",
            "12/12 [==============================] - 0s 2ms/step - loss: 12.9373 - mae: 2.6126\n",
            "Epoch 37/100\n",
            "12/12 [==============================] - 0s 3ms/step - loss: 12.6307 - mae: 2.5990\n",
            "Epoch 38/100\n",
            "12/12 [==============================] - 0s 3ms/step - loss: 12.4599 - mae: 2.5722\n",
            "Epoch 39/100\n",
            "12/12 [==============================] - 0s 2ms/step - loss: 12.3837 - mae: 2.5602\n",
            "Epoch 40/100\n",
            "12/12 [==============================] - 0s 2ms/step - loss: 12.1840 - mae: 2.5534\n",
            "Epoch 41/100\n",
            "12/12 [==============================] - 0s 3ms/step - loss: 12.0844 - mae: 2.5508\n",
            "Epoch 42/100\n",
            "12/12 [==============================] - 0s 3ms/step - loss: 12.0847 - mae: 2.5576\n",
            "Epoch 43/100\n",
            "12/12 [==============================] - 0s 2ms/step - loss: 12.0343 - mae: 2.5383\n",
            "Epoch 44/100\n",
            "12/12 [==============================] - 0s 2ms/step - loss: 11.7427 - mae: 2.5023\n",
            "Epoch 45/100\n",
            "12/12 [==============================] - 0s 3ms/step - loss: 11.6283 - mae: 2.4856\n",
            "Epoch 46/100\n",
            "12/12 [==============================] - 0s 3ms/step - loss: 11.7554 - mae: 2.4689\n",
            "Epoch 47/100\n",
            "12/12 [==============================] - 0s 3ms/step - loss: 11.7513 - mae: 2.4752\n",
            "Epoch 48/100\n",
            "12/12 [==============================] - 0s 2ms/step - loss: 11.2143 - mae: 2.4650\n",
            "Epoch 49/100\n",
            "12/12 [==============================] - 0s 2ms/step - loss: 11.0912 - mae: 2.4470\n",
            "Epoch 50/100\n",
            "12/12 [==============================] - 0s 3ms/step - loss: 10.9912 - mae: 2.4115\n",
            "Epoch 51/100\n",
            "12/12 [==============================] - 0s 3ms/step - loss: 10.8354 - mae: 2.3965\n",
            "Epoch 52/100\n",
            "12/12 [==============================] - 0s 3ms/step - loss: 10.7076 - mae: 2.3851\n",
            "Epoch 53/100\n",
            "12/12 [==============================] - 0s 2ms/step - loss: 10.7267 - mae: 2.3920\n",
            "Epoch 54/100\n",
            "12/12 [==============================] - 0s 2ms/step - loss: 10.5161 - mae: 2.3697\n",
            "Epoch 55/100\n",
            "12/12 [==============================] - 0s 3ms/step - loss: 10.4624 - mae: 2.3667\n",
            "Epoch 56/100\n",
            "12/12 [==============================] - 0s 2ms/step - loss: 10.4126 - mae: 2.3627\n",
            "Epoch 57/100\n",
            "12/12 [==============================] - 0s 2ms/step - loss: 10.3332 - mae: 2.3557\n",
            "Epoch 58/100\n",
            "12/12 [==============================] - 0s 2ms/step - loss: 10.4999 - mae: 2.3949\n",
            "Epoch 59/100\n",
            "12/12 [==============================] - 0s 3ms/step - loss: 10.1466 - mae: 2.3361\n",
            "Epoch 60/100\n",
            "12/12 [==============================] - 0s 3ms/step - loss: 9.9900 - mae: 2.3158\n",
            "Epoch 61/100\n",
            "12/12 [==============================] - 0s 3ms/step - loss: 9.8137 - mae: 2.2761\n",
            "Epoch 62/100\n",
            "12/12 [==============================] - 0s 2ms/step - loss: 9.8128 - mae: 2.2827\n",
            "Epoch 63/100\n",
            "12/12 [==============================] - 0s 3ms/step - loss: 9.6779 - mae: 2.2713\n",
            "Epoch 64/100\n",
            "12/12 [==============================] - 0s 3ms/step - loss: 9.7323 - mae: 2.2761\n",
            "Epoch 65/100\n",
            "12/12 [==============================] - 0s 2ms/step - loss: 9.8120 - mae: 2.3248\n",
            "Epoch 66/100\n",
            "12/12 [==============================] - 0s 2ms/step - loss: 9.5879 - mae: 2.2549\n",
            "Epoch 67/100\n",
            "12/12 [==============================] - 0s 3ms/step - loss: 9.4523 - mae: 2.2512\n",
            "Epoch 68/100\n",
            "12/12 [==============================] - 0s 2ms/step - loss: 9.7316 - mae: 2.2713\n",
            "Epoch 69/100\n",
            "12/12 [==============================] - 0s 2ms/step - loss: 9.4286 - mae: 2.2498\n",
            "Epoch 70/100\n",
            "12/12 [==============================] - 0s 2ms/step - loss: 9.1568 - mae: 2.2245\n",
            "Epoch 71/100\n",
            "12/12 [==============================] - 0s 2ms/step - loss: 9.0534 - mae: 2.2079\n",
            "Epoch 72/100\n",
            "12/12 [==============================] - 0s 3ms/step - loss: 9.0860 - mae: 2.2210\n",
            "Epoch 73/100\n",
            "12/12 [==============================] - 0s 3ms/step - loss: 9.0557 - mae: 2.2007\n",
            "Epoch 74/100\n",
            "12/12 [==============================] - 0s 3ms/step - loss: 8.9949 - mae: 2.2347\n",
            "Epoch 75/100\n",
            "12/12 [==============================] - 0s 3ms/step - loss: 8.9194 - mae: 2.2029\n",
            "Epoch 76/100\n",
            "12/12 [==============================] - 0s 3ms/step - loss: 8.7428 - mae: 2.1745\n",
            "Epoch 77/100\n",
            "12/12 [==============================] - 0s 3ms/step - loss: 8.5956 - mae: 2.1529\n",
            "Epoch 78/100\n",
            "12/12 [==============================] - 0s 4ms/step - loss: 8.7390 - mae: 2.1829\n",
            "Epoch 79/100\n",
            "12/12 [==============================] - 0s 4ms/step - loss: 8.4547 - mae: 2.1299\n",
            "Epoch 80/100\n",
            "12/12 [==============================] - 0s 3ms/step - loss: 8.4832 - mae: 2.1332\n",
            "Epoch 81/100\n",
            "12/12 [==============================] - 0s 3ms/step - loss: 8.5773 - mae: 2.1615\n",
            "Epoch 82/100\n",
            "12/12 [==============================] - 0s 3ms/step - loss: 8.3106 - mae: 2.1276\n",
            "Epoch 83/100\n",
            "12/12 [==============================] - 0s 3ms/step - loss: 8.3189 - mae: 2.1168\n",
            "Epoch 84/100\n",
            "12/12 [==============================] - 0s 3ms/step - loss: 8.1829 - mae: 2.1273\n",
            "Epoch 85/100\n",
            "12/12 [==============================] - 0s 3ms/step - loss: 8.0394 - mae: 2.0910\n",
            "Epoch 86/100\n",
            "12/12 [==============================] - 0s 2ms/step - loss: 7.9349 - mae: 2.0706\n",
            "Epoch 87/100\n",
            "12/12 [==============================] - 0s 2ms/step - loss: 7.9708 - mae: 2.0878\n",
            "Epoch 88/100\n",
            "12/12 [==============================] - 0s 3ms/step - loss: 8.0977 - mae: 2.0923\n",
            "Epoch 89/100\n",
            "12/12 [==============================] - 0s 2ms/step - loss: 7.9924 - mae: 2.0920\n",
            "Epoch 90/100\n",
            "12/12 [==============================] - 0s 2ms/step - loss: 7.6579 - mae: 2.0438\n",
            "Epoch 91/100\n",
            "12/12 [==============================] - 0s 2ms/step - loss: 7.7574 - mae: 2.0442\n",
            "Epoch 92/100\n",
            "12/12 [==============================] - 0s 3ms/step - loss: 7.6526 - mae: 2.0354\n",
            "Epoch 93/100\n",
            "12/12 [==============================] - 0s 3ms/step - loss: 7.5621 - mae: 2.0421\n",
            "Epoch 94/100\n",
            "12/12 [==============================] - 0s 3ms/step - loss: 7.5729 - mae: 2.0361\n",
            "Epoch 95/100\n",
            "12/12 [==============================] - 0s 3ms/step - loss: 7.5339 - mae: 2.0379\n",
            "Epoch 96/100\n",
            "12/12 [==============================] - 0s 3ms/step - loss: 7.4051 - mae: 2.0113\n",
            "Epoch 97/100\n",
            "12/12 [==============================] - 0s 3ms/step - loss: 7.5735 - mae: 2.0310\n",
            "Epoch 98/100\n",
            "12/12 [==============================] - 0s 3ms/step - loss: 7.6021 - mae: 2.0746\n",
            "Epoch 99/100\n",
            "12/12 [==============================] - 0s 3ms/step - loss: 7.9030 - mae: 2.1269\n",
            "Epoch 100/100\n",
            "12/12 [==============================] - 0s 3ms/step - loss: 7.2627 - mae: 2.0006\n"
          ]
        }
      ]
    },
    {
      "cell_type": "code",
      "source": [
        "test_mae, test_mse = model.evaluate(x_test, y_test)"
      ],
      "metadata": {
        "colab": {
          "base_uri": "https://localhost:8080/"
        },
        "id": "DoSVuVJ6r-Yv",
        "outputId": "eab582be-4d44-4619-a9e3-98018ec3e1dd"
      },
      "execution_count": 22,
      "outputs": [
        {
          "output_type": "stream",
          "name": "stdout",
          "text": [
            "5/5 [==============================] - 0s 3ms/step - loss: 13.6061 - mae: 2.5805\n"
          ]
        }
      ]
    },
    {
      "cell_type": "code",
      "source": [
        "y_pred = model.predict(x_test)\n",
        "r2_score(y_test,y_pred)"
      ],
      "metadata": {
        "colab": {
          "base_uri": "https://localhost:8080/"
        },
        "id": "0eSpiPSksgQ4",
        "outputId": "e4dbdb67-8819-4170-9973-d0809947d742"
      },
      "execution_count": 23,
      "outputs": [
        {
          "output_type": "stream",
          "name": "stdout",
          "text": [
            "5/5 [==============================] - 0s 3ms/step\n"
          ]
        },
        {
          "output_type": "execute_result",
          "data": {
            "text/plain": [
              "0.8173995904369417"
            ]
          },
          "metadata": {},
          "execution_count": 23
        }
      ]
    },
    {
      "cell_type": "code",
      "source": [
        "y_pred = model.predict(x_test).flatten()\n",
        "a = plt.axes(aspect='equal')\n",
        "plt.scatter(y_test, y_pred)\n",
        "plt.xlabel('True values')\n",
        "plt.ylabel('Predicted values')\n",
        "plt.xlim([0, 60])\n",
        "plt.ylim([0, 60])\n",
        "plt.plot([0, 60], [0, 60])"
      ],
      "metadata": {
        "colab": {
          "base_uri": "https://localhost:8080/",
          "height": 491
        },
        "id": "Fs5mOg_js-Z9",
        "outputId": "b655f430-a412-4e7b-922f-c6ac7750e5f6"
      },
      "execution_count": 24,
      "outputs": [
        {
          "output_type": "stream",
          "name": "stdout",
          "text": [
            "5/5 [==============================] - 0s 3ms/step\n"
          ]
        },
        {
          "output_type": "execute_result",
          "data": {
            "text/plain": [
              "[<matplotlib.lines.Line2D at 0x7f29feeb56f0>]"
            ]
          },
          "metadata": {},
          "execution_count": 24
        },
        {
          "output_type": "display_data",
          "data": {
            "text/plain": [
              "<Figure size 640x480 with 1 Axes>"
            ],
            "image/png": "[encoded data removed]"
          },
          "metadata": {}
        }
      ]
    }
  ]
}